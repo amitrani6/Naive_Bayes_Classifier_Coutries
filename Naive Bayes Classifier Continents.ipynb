{
 "cells": [
  {
   "cell_type": "code",
   "execution_count": 1,
   "metadata": {},
   "outputs": [],
   "source": [
    "import numpy as np\n",
    "import matplotlib.pyplot as plt\n",
    "import pandas as pd"
   ]
  },
  {
   "cell_type": "code",
   "execution_count": 3,
   "metadata": {},
   "outputs": [
    {
     "data": {
      "text/html": [
       "<div>\n",
       "<style scoped>\n",
       "    .dataframe tbody tr th:only-of-type {\n",
       "        vertical-align: middle;\n",
       "    }\n",
       "\n",
       "    .dataframe tbody tr th {\n",
       "        vertical-align: top;\n",
       "    }\n",
       "\n",
       "    .dataframe thead th {\n",
       "        text-align: right;\n",
       "    }\n",
       "</style>\n",
       "<table border=\"1\" class=\"dataframe\">\n",
       "  <thead>\n",
       "    <tr style=\"text-align: right;\">\n",
       "      <th></th>\n",
       "      <th>Country</th>\n",
       "      <th>Region</th>\n",
       "      <th>Population</th>\n",
       "      <th>Area (sq. mi.)</th>\n",
       "      <th>Pop. Density (per sq. mi.)</th>\n",
       "      <th>Coastline (coast/area ratio)</th>\n",
       "      <th>Net migration</th>\n",
       "      <th>Infant mortality (per 1000 births)</th>\n",
       "      <th>GDP ($ per capita)</th>\n",
       "      <th>Literacy (%)</th>\n",
       "      <th>Phones (per 1000)</th>\n",
       "      <th>Arable (%)</th>\n",
       "      <th>Crops (%)</th>\n",
       "      <th>Other (%)</th>\n",
       "      <th>Climate</th>\n",
       "      <th>Birthrate</th>\n",
       "      <th>Deathrate</th>\n",
       "      <th>Agriculture</th>\n",
       "      <th>Industry</th>\n",
       "      <th>Service</th>\n",
       "    </tr>\n",
       "  </thead>\n",
       "  <tbody>\n",
       "    <tr>\n",
       "      <th>0</th>\n",
       "      <td>Afghanistan</td>\n",
       "      <td>ASIA (EX. NEAR EAST)</td>\n",
       "      <td>31056997</td>\n",
       "      <td>647500</td>\n",
       "      <td>48,0</td>\n",
       "      <td>0,00</td>\n",
       "      <td>23,06</td>\n",
       "      <td>163,07</td>\n",
       "      <td>700.0</td>\n",
       "      <td>36,0</td>\n",
       "      <td>3,2</td>\n",
       "      <td>12,13</td>\n",
       "      <td>0,22</td>\n",
       "      <td>87,65</td>\n",
       "      <td>1</td>\n",
       "      <td>46,6</td>\n",
       "      <td>20,34</td>\n",
       "      <td>0,38</td>\n",
       "      <td>0,24</td>\n",
       "      <td>0,38</td>\n",
       "    </tr>\n",
       "    <tr>\n",
       "      <th>1</th>\n",
       "      <td>Albania</td>\n",
       "      <td>EASTERN EUROPE</td>\n",
       "      <td>3581655</td>\n",
       "      <td>28748</td>\n",
       "      <td>124,6</td>\n",
       "      <td>1,26</td>\n",
       "      <td>-4,93</td>\n",
       "      <td>21,52</td>\n",
       "      <td>4500.0</td>\n",
       "      <td>86,5</td>\n",
       "      <td>71,2</td>\n",
       "      <td>21,09</td>\n",
       "      <td>4,42</td>\n",
       "      <td>74,49</td>\n",
       "      <td>3</td>\n",
       "      <td>15,11</td>\n",
       "      <td>5,22</td>\n",
       "      <td>0,232</td>\n",
       "      <td>0,188</td>\n",
       "      <td>0,579</td>\n",
       "    </tr>\n",
       "    <tr>\n",
       "      <th>2</th>\n",
       "      <td>Algeria</td>\n",
       "      <td>NORTHERN AFRICA</td>\n",
       "      <td>32930091</td>\n",
       "      <td>2381740</td>\n",
       "      <td>13,8</td>\n",
       "      <td>0,04</td>\n",
       "      <td>-0,39</td>\n",
       "      <td>31</td>\n",
       "      <td>6000.0</td>\n",
       "      <td>70,0</td>\n",
       "      <td>78,1</td>\n",
       "      <td>3,22</td>\n",
       "      <td>0,25</td>\n",
       "      <td>96,53</td>\n",
       "      <td>1</td>\n",
       "      <td>17,14</td>\n",
       "      <td>4,61</td>\n",
       "      <td>0,101</td>\n",
       "      <td>0,6</td>\n",
       "      <td>0,298</td>\n",
       "    </tr>\n",
       "    <tr>\n",
       "      <th>3</th>\n",
       "      <td>American Samoa</td>\n",
       "      <td>OCEANIA</td>\n",
       "      <td>57794</td>\n",
       "      <td>199</td>\n",
       "      <td>290,4</td>\n",
       "      <td>58,29</td>\n",
       "      <td>-20,71</td>\n",
       "      <td>9,27</td>\n",
       "      <td>8000.0</td>\n",
       "      <td>97,0</td>\n",
       "      <td>259,5</td>\n",
       "      <td>10</td>\n",
       "      <td>15</td>\n",
       "      <td>75</td>\n",
       "      <td>2</td>\n",
       "      <td>22,46</td>\n",
       "      <td>3,27</td>\n",
       "      <td>NaN</td>\n",
       "      <td>NaN</td>\n",
       "      <td>NaN</td>\n",
       "    </tr>\n",
       "    <tr>\n",
       "      <th>4</th>\n",
       "      <td>Andorra</td>\n",
       "      <td>WESTERN EUROPE</td>\n",
       "      <td>71201</td>\n",
       "      <td>468</td>\n",
       "      <td>152,1</td>\n",
       "      <td>0,00</td>\n",
       "      <td>6,6</td>\n",
       "      <td>4,05</td>\n",
       "      <td>19000.0</td>\n",
       "      <td>100,0</td>\n",
       "      <td>497,2</td>\n",
       "      <td>2,22</td>\n",
       "      <td>0</td>\n",
       "      <td>97,78</td>\n",
       "      <td>3</td>\n",
       "      <td>8,71</td>\n",
       "      <td>6,25</td>\n",
       "      <td>NaN</td>\n",
       "      <td>NaN</td>\n",
       "      <td>NaN</td>\n",
       "    </tr>\n",
       "  </tbody>\n",
       "</table>\n",
       "</div>"
      ],
      "text/plain": [
       "           Country                               Region  Population  \\\n",
       "0     Afghanistan         ASIA (EX. NEAR EAST)             31056997   \n",
       "1         Albania   EASTERN EUROPE                          3581655   \n",
       "2         Algeria   NORTHERN AFRICA                        32930091   \n",
       "3  American Samoa   OCEANIA                                   57794   \n",
       "4         Andorra   WESTERN EUROPE                            71201   \n",
       "\n",
       "   Area (sq. mi.) Pop. Density (per sq. mi.) Coastline (coast/area ratio)  \\\n",
       "0          647500                       48,0                         0,00   \n",
       "1           28748                      124,6                         1,26   \n",
       "2         2381740                       13,8                         0,04   \n",
       "3             199                      290,4                        58,29   \n",
       "4             468                      152,1                         0,00   \n",
       "\n",
       "  Net migration Infant mortality (per 1000 births)  GDP ($ per capita)  \\\n",
       "0         23,06                             163,07               700.0   \n",
       "1         -4,93                              21,52              4500.0   \n",
       "2         -0,39                                 31              6000.0   \n",
       "3        -20,71                               9,27              8000.0   \n",
       "4           6,6                               4,05             19000.0   \n",
       "\n",
       "  Literacy (%) Phones (per 1000) Arable (%) Crops (%) Other (%) Climate  \\\n",
       "0         36,0               3,2      12,13      0,22     87,65       1   \n",
       "1         86,5              71,2      21,09      4,42     74,49       3   \n",
       "2         70,0              78,1       3,22      0,25     96,53       1   \n",
       "3         97,0             259,5         10        15        75       2   \n",
       "4        100,0             497,2       2,22         0     97,78       3   \n",
       "\n",
       "  Birthrate Deathrate Agriculture Industry Service  \n",
       "0      46,6     20,34        0,38     0,24    0,38  \n",
       "1     15,11      5,22       0,232    0,188   0,579  \n",
       "2     17,14      4,61       0,101      0,6   0,298  \n",
       "3     22,46      3,27         NaN      NaN     NaN  \n",
       "4      8,71      6,25         NaN      NaN     NaN  "
      ]
     },
     "execution_count": 3,
     "metadata": {},
     "output_type": "execute_result"
    }
   ],
   "source": [
    "countries = pd.read_csv('countries of the world.csv')\n",
    "countries.head()"
   ]
  },
  {
   "cell_type": "code",
   "execution_count": 7,
   "metadata": {},
   "outputs": [
    {
     "name": "stdout",
     "output_type": "stream",
     "text": [
      "<class 'pandas.core.frame.DataFrame'>\n",
      "RangeIndex: 227 entries, 0 to 226\n",
      "Data columns (total 20 columns):\n",
      "Country                               227 non-null object\n",
      "Region                                227 non-null object\n",
      "Population                            227 non-null int64\n",
      "Area (sq. mi.)                        227 non-null int64\n",
      "Pop. Density (per sq. mi.)            227 non-null object\n",
      "Coastline (coast/area ratio)          227 non-null object\n",
      "Net migration                         224 non-null object\n",
      "Infant mortality (per 1000 births)    224 non-null object\n",
      "GDP ($ per capita)                    226 non-null float64\n",
      "Literacy (%)                          209 non-null object\n",
      "Phones (per 1000)                     223 non-null object\n",
      "Arable (%)                            225 non-null object\n",
      "Crops (%)                             225 non-null object\n",
      "Other (%)                             225 non-null object\n",
      "Climate                               205 non-null object\n",
      "Birthrate                             224 non-null object\n",
      "Deathrate                             223 non-null object\n",
      "Agriculture                           212 non-null object\n",
      "Industry                              211 non-null object\n",
      "Service                               212 non-null object\n",
      "dtypes: float64(1), int64(2), object(17)\n",
      "memory usage: 35.5+ KB\n"
     ]
    }
   ],
   "source": [
    "countries.info()"
   ]
  },
  {
   "cell_type": "code",
   "execution_count": 4,
   "metadata": {
    "scrolled": true
   },
   "outputs": [
    {
     "data": {
      "text/plain": [
       "Country                                0\n",
       "Region                                 0\n",
       "Population                             0\n",
       "Area (sq. mi.)                         0\n",
       "Pop. Density (per sq. mi.)             0\n",
       "Coastline (coast/area ratio)           0\n",
       "Net migration                          3\n",
       "Infant mortality (per 1000 births)     3\n",
       "GDP ($ per capita)                     1\n",
       "Literacy (%)                          18\n",
       "Phones (per 1000)                      4\n",
       "Arable (%)                             2\n",
       "Crops (%)                              2\n",
       "Other (%)                              2\n",
       "Climate                               22\n",
       "Birthrate                              3\n",
       "Deathrate                              4\n",
       "Agriculture                           15\n",
       "Industry                              16\n",
       "Service                               15\n",
       "dtype: int64"
      ]
     },
     "execution_count": 4,
     "metadata": {},
     "output_type": "execute_result"
    }
   ],
   "source": [
    "countries.isnull().sum()"
   ]
  },
  {
   "cell_type": "code",
   "execution_count": 6,
   "metadata": {
    "scrolled": false
   },
   "outputs": [
    {
     "data": {
      "text/plain": [
       "48"
      ]
     },
     "execution_count": 6,
     "metadata": {},
     "output_type": "execute_result"
    }
   ],
   "source": [
    "len(countries[countries.isna().any(axis=1)])"
   ]
  },
  {
   "cell_type": "markdown",
   "metadata": {},
   "source": [
    "# Clean/remove Nan values"
   ]
  },
  {
   "cell_type": "code",
   "execution_count": 128,
   "metadata": {},
   "outputs": [],
   "source": [
    "countries_clean = countries.drop(columns = ['Climate', 'Phones (per 1000)', 'Literacy (%)'])"
   ]
  },
  {
   "cell_type": "code",
   "execution_count": 129,
   "metadata": {},
   "outputs": [
    {
     "data": {
      "text/plain": [
       "Country                                0\n",
       "Region                                 0\n",
       "Population                             0\n",
       "Area (sq. mi.)                         0\n",
       "Pop. Density (per sq. mi.)             0\n",
       "Coastline (coast/area ratio)           0\n",
       "Net migration                          3\n",
       "Infant mortality (per 1000 births)     3\n",
       "GDP ($ per capita)                     1\n",
       "Arable (%)                             2\n",
       "Crops (%)                              2\n",
       "Other (%)                              2\n",
       "Birthrate                              3\n",
       "Deathrate                              4\n",
       "Agriculture                           15\n",
       "Industry                              16\n",
       "Service                               15\n",
       "dtype: int64"
      ]
     },
     "execution_count": 129,
     "metadata": {},
     "output_type": "execute_result"
    }
   ],
   "source": [
    "countries_clean.isnull().sum()"
   ]
  },
  {
   "cell_type": "code",
   "execution_count": 130,
   "metadata": {
    "scrolled": true
   },
   "outputs": [
    {
     "data": {
      "text/plain": [
       "19"
      ]
     },
     "execution_count": 130,
     "metadata": {},
     "output_type": "execute_result"
    }
   ],
   "source": [
    "len(countries_clean[countries_clean.isna().any(axis=1)])"
   ]
  },
  {
   "cell_type": "code",
   "execution_count": 131,
   "metadata": {},
   "outputs": [],
   "source": [
    "countries_clean = countries_clean.dropna()"
   ]
  },
  {
   "cell_type": "code",
   "execution_count": 132,
   "metadata": {},
   "outputs": [
    {
     "data": {
      "text/plain": [
       "(208, 17)"
      ]
     },
     "execution_count": 132,
     "metadata": {},
     "output_type": "execute_result"
    }
   ],
   "source": [
    "countries_clean.shape"
   ]
  },
  {
   "cell_type": "code",
   "execution_count": 133,
   "metadata": {
    "scrolled": true
   },
   "outputs": [
    {
     "data": {
      "text/plain": [
       "Country                               0\n",
       "Region                                0\n",
       "Population                            0\n",
       "Area (sq. mi.)                        0\n",
       "Pop. Density (per sq. mi.)            0\n",
       "Coastline (coast/area ratio)          0\n",
       "Net migration                         0\n",
       "Infant mortality (per 1000 births)    0\n",
       "GDP ($ per capita)                    0\n",
       "Arable (%)                            0\n",
       "Crops (%)                             0\n",
       "Other (%)                             0\n",
       "Birthrate                             0\n",
       "Deathrate                             0\n",
       "Agriculture                           0\n",
       "Industry                              0\n",
       "Service                               0\n",
       "dtype: int64"
      ]
     },
     "execution_count": 133,
     "metadata": {},
     "output_type": "execute_result"
    }
   ],
   "source": [
    "countries_clean.isnull().sum()"
   ]
  },
  {
   "cell_type": "code",
   "execution_count": 134,
   "metadata": {
    "scrolled": true
   },
   "outputs": [
    {
     "data": {
      "text/plain": [
       "array(['ASIA (EX. NEAR EAST)         ',\n",
       "       'EASTERN EUROPE                     ',\n",
       "       'NORTHERN AFRICA                    ',\n",
       "       'SUB-SAHARAN AFRICA                 ', 'LATIN AMER. & CARIB    ',\n",
       "       'C.W. OF IND. STATES ', 'OCEANIA                            ',\n",
       "       'WESTERN EUROPE                     ',\n",
       "       'NEAR EAST                          ',\n",
       "       'NORTHERN AMERICA                   ',\n",
       "       'BALTICS                            '], dtype=object)"
      ]
     },
     "execution_count": 134,
     "metadata": {},
     "output_type": "execute_result"
    }
   ],
   "source": [
    "countries_clean['Region'].unique()"
   ]
  },
  {
   "cell_type": "code",
   "execution_count": 135,
   "metadata": {},
   "outputs": [
    {
     "data": {
      "text/plain": [
       "208"
      ]
     },
     "execution_count": 135,
     "metadata": {},
     "output_type": "execute_result"
    }
   ],
   "source": [
    "countries_clean['Region'].count()"
   ]
  },
  {
   "cell_type": "code",
   "execution_count": 136,
   "metadata": {
    "scrolled": true
   },
   "outputs": [
    {
     "data": {
      "text/html": [
       "<div>\n",
       "<style scoped>\n",
       "    .dataframe tbody tr th:only-of-type {\n",
       "        vertical-align: middle;\n",
       "    }\n",
       "\n",
       "    .dataframe tbody tr th {\n",
       "        vertical-align: top;\n",
       "    }\n",
       "\n",
       "    .dataframe thead th {\n",
       "        text-align: right;\n",
       "    }\n",
       "</style>\n",
       "<table border=\"1\" class=\"dataframe\">\n",
       "  <thead>\n",
       "    <tr style=\"text-align: right;\">\n",
       "      <th></th>\n",
       "      <th>Country</th>\n",
       "      <th>Region</th>\n",
       "      <th>Population</th>\n",
       "      <th>Area (sq. mi.)</th>\n",
       "      <th>Pop. Density (per sq. mi.)</th>\n",
       "      <th>Coastline (coast/area ratio)</th>\n",
       "      <th>Net migration</th>\n",
       "      <th>Infant mortality (per 1000 births)</th>\n",
       "      <th>GDP ($ per capita)</th>\n",
       "      <th>Arable (%)</th>\n",
       "      <th>Crops (%)</th>\n",
       "      <th>Other (%)</th>\n",
       "      <th>Birthrate</th>\n",
       "      <th>Deathrate</th>\n",
       "      <th>Agriculture</th>\n",
       "      <th>Industry</th>\n",
       "      <th>Service</th>\n",
       "    </tr>\n",
       "  </thead>\n",
       "  <tbody>\n",
       "    <tr>\n",
       "      <th>0</th>\n",
       "      <td>Afghanistan</td>\n",
       "      <td>ASIA (EX. NEAR EAST)</td>\n",
       "      <td>31056997</td>\n",
       "      <td>647500</td>\n",
       "      <td>48,0</td>\n",
       "      <td>0,00</td>\n",
       "      <td>23,06</td>\n",
       "      <td>163,07</td>\n",
       "      <td>700.0</td>\n",
       "      <td>12,13</td>\n",
       "      <td>0,22</td>\n",
       "      <td>87,65</td>\n",
       "      <td>46,6</td>\n",
       "      <td>20,34</td>\n",
       "      <td>0,38</td>\n",
       "      <td>0,24</td>\n",
       "      <td>0,38</td>\n",
       "    </tr>\n",
       "    <tr>\n",
       "      <th>1</th>\n",
       "      <td>Albania</td>\n",
       "      <td>EASTERN EUROPE</td>\n",
       "      <td>3581655</td>\n",
       "      <td>28748</td>\n",
       "      <td>124,6</td>\n",
       "      <td>1,26</td>\n",
       "      <td>-4,93</td>\n",
       "      <td>21,52</td>\n",
       "      <td>4500.0</td>\n",
       "      <td>21,09</td>\n",
       "      <td>4,42</td>\n",
       "      <td>74,49</td>\n",
       "      <td>15,11</td>\n",
       "      <td>5,22</td>\n",
       "      <td>0,232</td>\n",
       "      <td>0,188</td>\n",
       "      <td>0,579</td>\n",
       "    </tr>\n",
       "    <tr>\n",
       "      <th>2</th>\n",
       "      <td>Algeria</td>\n",
       "      <td>NORTHERN AFRICA</td>\n",
       "      <td>32930091</td>\n",
       "      <td>2381740</td>\n",
       "      <td>13,8</td>\n",
       "      <td>0,04</td>\n",
       "      <td>-0,39</td>\n",
       "      <td>31</td>\n",
       "      <td>6000.0</td>\n",
       "      <td>3,22</td>\n",
       "      <td>0,25</td>\n",
       "      <td>96,53</td>\n",
       "      <td>17,14</td>\n",
       "      <td>4,61</td>\n",
       "      <td>0,101</td>\n",
       "      <td>0,6</td>\n",
       "      <td>0,298</td>\n",
       "    </tr>\n",
       "    <tr>\n",
       "      <th>5</th>\n",
       "      <td>Angola</td>\n",
       "      <td>SUB-SAHARAN AFRICA</td>\n",
       "      <td>12127071</td>\n",
       "      <td>1246700</td>\n",
       "      <td>9,7</td>\n",
       "      <td>0,13</td>\n",
       "      <td>0</td>\n",
       "      <td>191,19</td>\n",
       "      <td>1900.0</td>\n",
       "      <td>2,41</td>\n",
       "      <td>0,24</td>\n",
       "      <td>97,35</td>\n",
       "      <td>45,11</td>\n",
       "      <td>24,2</td>\n",
       "      <td>0,096</td>\n",
       "      <td>0,658</td>\n",
       "      <td>0,246</td>\n",
       "    </tr>\n",
       "    <tr>\n",
       "      <th>6</th>\n",
       "      <td>Anguilla</td>\n",
       "      <td>LATIN AMER. &amp; CARIB</td>\n",
       "      <td>13477</td>\n",
       "      <td>102</td>\n",
       "      <td>132,1</td>\n",
       "      <td>59,80</td>\n",
       "      <td>10,76</td>\n",
       "      <td>21,03</td>\n",
       "      <td>8600.0</td>\n",
       "      <td>0</td>\n",
       "      <td>0</td>\n",
       "      <td>100</td>\n",
       "      <td>14,17</td>\n",
       "      <td>5,34</td>\n",
       "      <td>0,04</td>\n",
       "      <td>0,18</td>\n",
       "      <td>0,78</td>\n",
       "    </tr>\n",
       "  </tbody>\n",
       "</table>\n",
       "</div>"
      ],
      "text/plain": [
       "        Country                               Region  Population  \\\n",
       "0  Afghanistan         ASIA (EX. NEAR EAST)             31056997   \n",
       "1      Albania   EASTERN EUROPE                          3581655   \n",
       "2      Algeria   NORTHERN AFRICA                        32930091   \n",
       "5       Angola   SUB-SAHARAN AFRICA                     12127071   \n",
       "6     Anguilla               LATIN AMER. & CARIB           13477   \n",
       "\n",
       "   Area (sq. mi.) Pop. Density (per sq. mi.) Coastline (coast/area ratio)  \\\n",
       "0          647500                       48,0                         0,00   \n",
       "1           28748                      124,6                         1,26   \n",
       "2         2381740                       13,8                         0,04   \n",
       "5         1246700                        9,7                         0,13   \n",
       "6             102                      132,1                        59,80   \n",
       "\n",
       "  Net migration Infant mortality (per 1000 births)  GDP ($ per capita)  \\\n",
       "0         23,06                             163,07               700.0   \n",
       "1         -4,93                              21,52              4500.0   \n",
       "2         -0,39                                 31              6000.0   \n",
       "5             0                             191,19              1900.0   \n",
       "6         10,76                              21,03              8600.0   \n",
       "\n",
       "  Arable (%) Crops (%) Other (%) Birthrate Deathrate Agriculture Industry  \\\n",
       "0      12,13      0,22     87,65      46,6     20,34        0,38     0,24   \n",
       "1      21,09      4,42     74,49     15,11      5,22       0,232    0,188   \n",
       "2       3,22      0,25     96,53     17,14      4,61       0,101      0,6   \n",
       "5       2,41      0,24     97,35     45,11      24,2       0,096    0,658   \n",
       "6          0         0       100     14,17      5,34        0,04     0,18   \n",
       "\n",
       "  Service  \n",
       "0    0,38  \n",
       "1   0,579  \n",
       "2   0,298  \n",
       "5   0,246  \n",
       "6    0,78  "
      ]
     },
     "execution_count": 136,
     "metadata": {},
     "output_type": "execute_result"
    }
   ],
   "source": [
    "countries_clean.head()"
   ]
  },
  {
   "cell_type": "code",
   "execution_count": 137,
   "metadata": {
    "scrolled": true
   },
   "outputs": [
    {
     "data": {
      "text/plain": [
       "SUB-SAHARAN AFRICA                     49\n",
       "LATIN AMER. & CARIB                    43\n",
       "ASIA (EX. NEAR EAST)                   28\n",
       "WESTERN EUROPE                         23\n",
       "NEAR EAST                              16\n",
       "OCEANIA                                15\n",
       "C.W. OF IND. STATES                    12\n",
       "EASTERN EUROPE                         11\n",
       "NORTHERN AFRICA                         5\n",
       "NORTHERN AMERICA                        3\n",
       "BALTICS                                 3\n",
       "Name: Region, dtype: int64"
      ]
     },
     "execution_count": 137,
     "metadata": {},
     "output_type": "execute_result"
    }
   ],
   "source": [
    "countries_clean.Region.value_counts()"
   ]
  },
  {
   "cell_type": "code",
   "execution_count": 153,
   "metadata": {},
   "outputs": [],
   "source": [
    "#countries_clean[countries_clean['Region'] == 'NEAR EAST                          ']"
   ]
  },
  {
   "cell_type": "code",
   "execution_count": 159,
   "metadata": {},
   "outputs": [
    {
     "data": {
      "text/plain": [
       "Asia          56\n",
       "Africa        54\n",
       "S. America    43\n",
       "Europe        37\n",
       "Oceania       15\n",
       "N. America     3\n",
       "Name: Region, dtype: int64"
      ]
     },
     "execution_count": 159,
     "metadata": {},
     "output_type": "execute_result"
    }
   ],
   "source": [
    "countries_clean.replace({'Region':{'ASIA (EX. NEAR EAST)         ': 'Asia',\n",
    "                                   'C.W. OF IND. STATES': 'Asia',\n",
    "                                   'C.W. OF IND. STATES ': 'Asia',\n",
    "                                   'ASIA (EX. NEAR EAST)         ': 'Asia',\n",
    "                                   'NEAR EAST                          ': 'Asia',\n",
    "                                   'EASTERN EUROPE                     ': 'Europe',\n",
    "                                   'WESTERN EUROPE                     ': 'Europe',\n",
    "                                   'BALTICS                            ':'Europe',\n",
    "                                   'LATIN AMER. & CARIB    ': 'S. America',\n",
    "                                   'NORTHERN AFRICA                    ': 'Africa',\n",
    "                                   'SUB-SAHARAN AFRICA                 ': 'Africa',\n",
    "                                   'OCEANIA                            ': 'Oceania',\n",
    "                                   'NORTHERN AMERICA                   ': 'N. America'\n",
    "                                   \n",
    "    \n",
    "}}).Region.value_counts()"
   ]
  },
  {
   "cell_type": "code",
   "execution_count": null,
   "metadata": {},
   "outputs": [
    {
     "data": {
      "text/plain": [
       "<matplotlib.axes._subplots.AxesSubplot at 0x1318db128>"
      ]
     },
     "execution_count": 161,
     "metadata": {},
     "output_type": "execute_result"
    }
   ],
   "source": [
    "countries_clean.Region.hist(figsize=(12, 12))"
   ]
  },
  {
   "cell_type": "markdown",
   "metadata": {},
   "source": [
    "# Setting up the data for the classifier"
   ]
  },
  {
   "cell_type": "code",
   "execution_count": 139,
   "metadata": {},
   "outputs": [],
   "source": [
    "X = countries_clean.iloc[:, 3:-1].values\n",
    "Y = countries_clean.iloc[:, 1:2].values"
   ]
  },
  {
   "cell_type": "code",
   "execution_count": 141,
   "metadata": {},
   "outputs": [
    {
     "data": {
      "text/plain": [
       "array([['ASIA (EX. NEAR EAST)         '],\n",
       "       ['EASTERN EUROPE                     '],\n",
       "       ['NORTHERN AFRICA                    '],\n",
       "       ['SUB-SAHARAN AFRICA                 '],\n",
       "       ['LATIN AMER. & CARIB    '],\n",
       "       ['LATIN AMER. & CARIB    '],\n",
       "       ['LATIN AMER. & CARIB    '],\n",
       "       ['C.W. OF IND. STATES '],\n",
       "       ['LATIN AMER. & CARIB    '],\n",
       "       ['OCEANIA                            '],\n",
       "       ['WESTERN EUROPE                     '],\n",
       "       ['C.W. OF IND. STATES '],\n",
       "       ['LATIN AMER. & CARIB    '],\n",
       "       ['NEAR EAST                          '],\n",
       "       ['ASIA (EX. NEAR EAST)         '],\n",
       "       ['LATIN AMER. & CARIB    '],\n",
       "       ['C.W. OF IND. STATES '],\n",
       "       ['WESTERN EUROPE                     '],\n",
       "       ['LATIN AMER. & CARIB    '],\n",
       "       ['SUB-SAHARAN AFRICA                 '],\n",
       "       ['NORTHERN AMERICA                   '],\n",
       "       ['ASIA (EX. NEAR EAST)         '],\n",
       "       ['LATIN AMER. & CARIB    '],\n",
       "       ['EASTERN EUROPE                     '],\n",
       "       ['SUB-SAHARAN AFRICA                 '],\n",
       "       ['LATIN AMER. & CARIB    '],\n",
       "       ['LATIN AMER. & CARIB    '],\n",
       "       ['ASIA (EX. NEAR EAST)         '],\n",
       "       ['EASTERN EUROPE                     '],\n",
       "       ['SUB-SAHARAN AFRICA                 '],\n",
       "       ['ASIA (EX. NEAR EAST)         '],\n",
       "       ['SUB-SAHARAN AFRICA                 '],\n",
       "       ['ASIA (EX. NEAR EAST)         '],\n",
       "       ['SUB-SAHARAN AFRICA                 '],\n",
       "       ['NORTHERN AMERICA                   '],\n",
       "       ['SUB-SAHARAN AFRICA                 '],\n",
       "       ['LATIN AMER. & CARIB    '],\n",
       "       ['SUB-SAHARAN AFRICA                 '],\n",
       "       ['SUB-SAHARAN AFRICA                 '],\n",
       "       ['LATIN AMER. & CARIB    '],\n",
       "       ['ASIA (EX. NEAR EAST)         '],\n",
       "       ['LATIN AMER. & CARIB    '],\n",
       "       ['SUB-SAHARAN AFRICA                 '],\n",
       "       ['SUB-SAHARAN AFRICA                 '],\n",
       "       ['SUB-SAHARAN AFRICA                 '],\n",
       "       ['LATIN AMER. & CARIB    '],\n",
       "       ['SUB-SAHARAN AFRICA                 '],\n",
       "       ['EASTERN EUROPE                     '],\n",
       "       ['LATIN AMER. & CARIB    '],\n",
       "       ['NEAR EAST                          '],\n",
       "       ['EASTERN EUROPE                     '],\n",
       "       ['WESTERN EUROPE                     '],\n",
       "       ['SUB-SAHARAN AFRICA                 '],\n",
       "       ['LATIN AMER. & CARIB    '],\n",
       "       ['LATIN AMER. & CARIB    '],\n",
       "       ['ASIA (EX. NEAR EAST)         '],\n",
       "       ['LATIN AMER. & CARIB    '],\n",
       "       ['NORTHERN AFRICA                    '],\n",
       "       ['LATIN AMER. & CARIB    '],\n",
       "       ['SUB-SAHARAN AFRICA                 '],\n",
       "       ['SUB-SAHARAN AFRICA                 '],\n",
       "       ['BALTICS                            '],\n",
       "       ['SUB-SAHARAN AFRICA                 '],\n",
       "       ['WESTERN EUROPE                     '],\n",
       "       ['OCEANIA                            '],\n",
       "       ['WESTERN EUROPE                     '],\n",
       "       ['WESTERN EUROPE                     '],\n",
       "       ['LATIN AMER. & CARIB    '],\n",
       "       ['OCEANIA                            '],\n",
       "       ['SUB-SAHARAN AFRICA                 '],\n",
       "       ['SUB-SAHARAN AFRICA                 '],\n",
       "       ['NEAR EAST                          '],\n",
       "       ['C.W. OF IND. STATES '],\n",
       "       ['WESTERN EUROPE                     '],\n",
       "       ['SUB-SAHARAN AFRICA                 '],\n",
       "       ['WESTERN EUROPE                     '],\n",
       "       ['LATIN AMER. & CARIB    '],\n",
       "       ['LATIN AMER. & CARIB    '],\n",
       "       ['LATIN AMER. & CARIB    '],\n",
       "       ['SUB-SAHARAN AFRICA                 '],\n",
       "       ['SUB-SAHARAN AFRICA                 '],\n",
       "       ['LATIN AMER. & CARIB    '],\n",
       "       ['LATIN AMER. & CARIB    '],\n",
       "       ['LATIN AMER. & CARIB    '],\n",
       "       ['ASIA (EX. NEAR EAST)         '],\n",
       "       ['EASTERN EUROPE                     '],\n",
       "       ['WESTERN EUROPE                     '],\n",
       "       ['ASIA (EX. NEAR EAST)         '],\n",
       "       ['ASIA (EX. NEAR EAST)         '],\n",
       "       ['ASIA (EX. NEAR EAST)         '],\n",
       "       ['NEAR EAST                          '],\n",
       "       ['WESTERN EUROPE                     '],\n",
       "       ['WESTERN EUROPE                     '],\n",
       "       ['NEAR EAST                          '],\n",
       "       ['WESTERN EUROPE                     '],\n",
       "       ['LATIN AMER. & CARIB    '],\n",
       "       ['ASIA (EX. NEAR EAST)         '],\n",
       "       ['WESTERN EUROPE                     '],\n",
       "       ['NEAR EAST                          '],\n",
       "       ['C.W. OF IND. STATES '],\n",
       "       ['SUB-SAHARAN AFRICA                 '],\n",
       "       ['OCEANIA                            '],\n",
       "       ['ASIA (EX. NEAR EAST)         '],\n",
       "       ['ASIA (EX. NEAR EAST)         '],\n",
       "       ['NEAR EAST                          '],\n",
       "       ['C.W. OF IND. STATES '],\n",
       "       ['ASIA (EX. NEAR EAST)         '],\n",
       "       ['BALTICS                            '],\n",
       "       ['NEAR EAST                          '],\n",
       "       ['SUB-SAHARAN AFRICA                 '],\n",
       "       ['SUB-SAHARAN AFRICA                 '],\n",
       "       ['NORTHERN AFRICA                    '],\n",
       "       ['WESTERN EUROPE                     '],\n",
       "       ['BALTICS                            '],\n",
       "       ['WESTERN EUROPE                     '],\n",
       "       ['ASIA (EX. NEAR EAST)         '],\n",
       "       ['EASTERN EUROPE                     '],\n",
       "       ['SUB-SAHARAN AFRICA                 '],\n",
       "       ['SUB-SAHARAN AFRICA                 '],\n",
       "       ['ASIA (EX. NEAR EAST)         '],\n",
       "       ['ASIA (EX. NEAR EAST)         '],\n",
       "       ['SUB-SAHARAN AFRICA                 '],\n",
       "       ['WESTERN EUROPE                     '],\n",
       "       ['OCEANIA                            '],\n",
       "       ['LATIN AMER. & CARIB    '],\n",
       "       ['SUB-SAHARAN AFRICA                 '],\n",
       "       ['SUB-SAHARAN AFRICA                 '],\n",
       "       ['LATIN AMER. & CARIB    '],\n",
       "       ['OCEANIA                            '],\n",
       "       ['C.W. OF IND. STATES '],\n",
       "       ['ASIA (EX. NEAR EAST)         '],\n",
       "       ['NORTHERN AFRICA                    '],\n",
       "       ['SUB-SAHARAN AFRICA                 '],\n",
       "       ['SUB-SAHARAN AFRICA                 '],\n",
       "       ['ASIA (EX. NEAR EAST)         '],\n",
       "       ['WESTERN EUROPE                     '],\n",
       "       ['LATIN AMER. & CARIB    '],\n",
       "       ['OCEANIA                            '],\n",
       "       ['OCEANIA                            '],\n",
       "       ['LATIN AMER. & CARIB    '],\n",
       "       ['SUB-SAHARAN AFRICA                 '],\n",
       "       ['SUB-SAHARAN AFRICA                 '],\n",
       "       ['WESTERN EUROPE                     '],\n",
       "       ['NEAR EAST                          '],\n",
       "       ['ASIA (EX. NEAR EAST)         '],\n",
       "       ['OCEANIA                            '],\n",
       "       ['LATIN AMER. & CARIB    '],\n",
       "       ['OCEANIA                            '],\n",
       "       ['LATIN AMER. & CARIB    '],\n",
       "       ['LATIN AMER. & CARIB    '],\n",
       "       ['ASIA (EX. NEAR EAST)         '],\n",
       "       ['EASTERN EUROPE                     '],\n",
       "       ['WESTERN EUROPE                     '],\n",
       "       ['LATIN AMER. & CARIB    '],\n",
       "       ['NEAR EAST                          '],\n",
       "       ['SUB-SAHARAN AFRICA                 '],\n",
       "       ['EASTERN EUROPE                     '],\n",
       "       ['C.W. OF IND. STATES '],\n",
       "       ['SUB-SAHARAN AFRICA                 '],\n",
       "       ['LATIN AMER. & CARIB    '],\n",
       "       ['LATIN AMER. & CARIB    '],\n",
       "       ['LATIN AMER. & CARIB    '],\n",
       "       ['OCEANIA                            '],\n",
       "       ['SUB-SAHARAN AFRICA                 '],\n",
       "       ['NEAR EAST                          '],\n",
       "       ['SUB-SAHARAN AFRICA                 '],\n",
       "       ['SUB-SAHARAN AFRICA                 '],\n",
       "       ['SUB-SAHARAN AFRICA                 '],\n",
       "       ['ASIA (EX. NEAR EAST)         '],\n",
       "       ['EASTERN EUROPE                     '],\n",
       "       ['EASTERN EUROPE                     '],\n",
       "       ['OCEANIA                            '],\n",
       "       ['SUB-SAHARAN AFRICA                 '],\n",
       "       ['SUB-SAHARAN AFRICA                 '],\n",
       "       ['WESTERN EUROPE                     '],\n",
       "       ['ASIA (EX. NEAR EAST)         '],\n",
       "       ['SUB-SAHARAN AFRICA                 '],\n",
       "       ['LATIN AMER. & CARIB    '],\n",
       "       ['SUB-SAHARAN AFRICA                 '],\n",
       "       ['WESTERN EUROPE                     '],\n",
       "       ['WESTERN EUROPE                     '],\n",
       "       ['NEAR EAST                          '],\n",
       "       ['ASIA (EX. NEAR EAST)         '],\n",
       "       ['C.W. OF IND. STATES '],\n",
       "       ['SUB-SAHARAN AFRICA                 '],\n",
       "       ['ASIA (EX. NEAR EAST)         '],\n",
       "       ['SUB-SAHARAN AFRICA                 '],\n",
       "       ['OCEANIA                            '],\n",
       "       ['LATIN AMER. & CARIB    '],\n",
       "       ['NORTHERN AFRICA                    '],\n",
       "       ['NEAR EAST                          '],\n",
       "       ['C.W. OF IND. STATES '],\n",
       "       ['OCEANIA                            '],\n",
       "       ['SUB-SAHARAN AFRICA                 '],\n",
       "       ['C.W. OF IND. STATES '],\n",
       "       ['NEAR EAST                          '],\n",
       "       ['WESTERN EUROPE                     '],\n",
       "       ['NORTHERN AMERICA                   '],\n",
       "       ['LATIN AMER. & CARIB    '],\n",
       "       ['C.W. OF IND. STATES '],\n",
       "       ['OCEANIA                            '],\n",
       "       ['LATIN AMER. & CARIB    '],\n",
       "       ['ASIA (EX. NEAR EAST)         '],\n",
       "       ['LATIN AMER. & CARIB    '],\n",
       "       ['NEAR EAST                          '],\n",
       "       ['NEAR EAST                          '],\n",
       "       ['SUB-SAHARAN AFRICA                 '],\n",
       "       ['SUB-SAHARAN AFRICA                 ']], dtype=object)"
      ]
     },
     "execution_count": 141,
     "metadata": {},
     "output_type": "execute_result"
    }
   ],
   "source": [
    "Y"
   ]
  },
  {
   "cell_type": "code",
   "execution_count": null,
   "metadata": {},
   "outputs": [],
   "source": []
  }
 ],
 "metadata": {
  "kernelspec": {
   "display_name": "Python 3",
   "language": "python",
   "name": "python3"
  },
  "language_info": {
   "codemirror_mode": {
    "name": "ipython",
    "version": 3
   },
   "file_extension": ".py",
   "mimetype": "text/x-python",
   "name": "python",
   "nbconvert_exporter": "python",
   "pygments_lexer": "ipython3",
   "version": "3.7.2"
  }
 },
 "nbformat": 4,
 "nbformat_minor": 2
}
